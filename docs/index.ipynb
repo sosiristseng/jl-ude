{
 "cells": [
  {
   "cell_type": "markdown",
   "source": [
    "# UDEs\n",
    "\n",
    "Universal Differential Equations (UDEs) are hybrids of differential equations and neural networks.\n",
    "\n",
    "- https://github.com/SciML/DiffEqFlux.jl : fusing differential equations (`DifferentialEquations.jl`) and neural networks (`Lux.jl`).\n",
    "- https://github.com/SciML/NeuralPDE.jl : physics-Informed Neural Networks (PINN) Solvers, learning and building the equations from the ground up. `NeuralPDE.jl` is slower than `DiffEqFlux.jl`.\n",
    "\n",
    "## Runtime information"
   ],
   "metadata": {}
  },
  {
   "outputs": [],
   "cell_type": "code",
   "source": [
    "using InteractiveUtils\n",
    "InteractiveUtils.versioninfo()"
   ],
   "metadata": {},
   "execution_count": null
  },
  {
   "outputs": [],
   "cell_type": "code",
   "source": [
    "using Pkg\n",
    "Pkg.status()"
   ],
   "metadata": {},
   "execution_count": null
  },
  {
   "cell_type": "markdown",
   "source": [
    "---\n",
    "\n",
    "*This notebook was generated using [Literate.jl](https://github.com/fredrikekre/Literate.jl).*"
   ],
   "metadata": {}
  }
 ],
 "nbformat_minor": 3,
 "metadata": {
  "language_info": {
   "file_extension": ".jl",
   "mimetype": "application/julia",
   "name": "julia",
   "version": "1.11.6"
  },
  "kernelspec": {
   "name": "julia-1.11",
   "display_name": "Julia 1.11.6",
   "language": "julia"
  }
 },
 "nbformat": 4
}
